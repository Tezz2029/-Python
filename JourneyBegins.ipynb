{
 "cells": [
  {
   "cell_type": "code",
   "execution_count": 1,
   "id": "595c9ec5-3273-44a8-a766-476094ecca85",
   "metadata": {},
   "outputs": [
    {
     "name": "stdout",
     "output_type": "stream",
     "text": [
      "Journey Begins\n"
     ]
    }
   ],
   "source": [
    "print(\"Journey Begins\")"
   ]
  },
  {
   "cell_type": "code",
   "execution_count": null,
   "id": "daa63507-e41c-45bf-a798-1495f4f401e8",
   "metadata": {},
   "outputs": [],
   "source": []
  }
 ],
 "metadata": {
  "kernelspec": {
   "display_name": "Python 3",
   "language": "python",
   "name": "python3"
  },
  "language_info": {
   "codemirror_mode": {
    "name": "ipython",
    "version": 3
   },
   "file_extension": ".py",
   "mimetype": "text/x-python",
   "name": "python",
   "nbconvert_exporter": "python",
   "pygments_lexer": "ipython3",
   "version": "3.8.8"
  }
 },
 "nbformat": 4,
 "nbformat_minor": 5
}
